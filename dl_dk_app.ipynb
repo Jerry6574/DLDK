{
 "cells": [
  {
   "cell_type": "code",
   "execution_count": 1,
   "metadata": {},
   "outputs": [],
   "source": [
    "from dldk import DLDK\n",
    "import pandas as pd\n",
    "import os"
   ]
  },
  {
   "cell_type": "code",
   "execution_count": 2,
   "metadata": {},
   "outputs": [],
   "source": [
    "# download one product group\n",
    "def one_dl(url, page_start=1, wsw_pn=None, concat=True):\n",
    "    tb = DLDK(url)\n",
    "    tb.dl_spg(wsw_pn=wsw_pn, page_start=page_start)\n",
    "    if concat:\n",
    "        tb.concat_all(delete_csv=True)\n",
    "\n",
    "# download multiple product group\n",
    "def multi_dl(filename, concat=True, rename=True):\n",
    "    df = pd.read_excel(filename)\n",
    "    \n",
    "    for row in df.itertuples():\n",
    "        wsw_pn = getattr(row, \"WSW_PN\")\n",
    "        url = getattr(row, \"DK_Link\")\n",
    "        one_dl(url, wsw_pn=wsw_pn, concat=concat)\n",
    "        \n",
    "def concat(from_path, to_path):\n",
    "    xl_paths = []\n",
    "    xl_df_list = []\n",
    "    for root, dirs, files in os.walk(from_path):\n",
    "        for file in files:\n",
    "            if file.endswith((\".xlsx\", \".csv\")):\n",
    "                xl_paths.append(os.path.join(from_path, root, file))\n",
    "            \n",
    "    for xl_path in xl_paths:\n",
    "        try:\n",
    "            xl_df = pd.read_excel(xl_path)\n",
    "        except:\n",
    "            xl_df = pd.read_csv(xl_path)\n",
    "        xl_df_list.append(xl_df)\n",
    "        \n",
    "    xl_df_concat = pd.concat(xl_df_list, ignore_index=True)\n",
    "    \n",
    "    xl_df_concat.to_excel(to_path)"
   ]
  },
  {
   "cell_type": "code",
   "execution_count": 3,
   "metadata": {},
   "outputs": [],
   "source": [
    "multi_dl(\"dl list.xlsx\", concat=False)"
   ]
  },
  {
   "cell_type": "code",
   "execution_count": 4,
   "metadata": {},
   "outputs": [],
   "source": [
    "from_path = r\"C:\\Users\\jerryw\\Desktop\\Programming_Projects\\dl_dk\\dl_root\\connectors-interconnects_rectangular-connectors-free-hanging-panel-mount\"\n",
    "to_path = r\"C:\\Users\\jerryw\\Desktop\\Programming_Projects\\dl_dk\\concat\\1.27mm IDC sockets.xlsx\"\n",
    "\n",
    "concat(from_path, to_path)"
   ]
  },
  {
   "cell_type": "code",
   "execution_count": null,
   "metadata": {},
   "outputs": [],
   "source": [
    "url = \"https://www.digikey.com/products/en/connectors-interconnects/d-sub-connectors/439?FV=ffe001b7%2C1f140000&quantity=0&ColumnSort=0&pageSize=500\"\n",
    "one_dl(url, page_start=1)"
   ]
  }
 ],
 "metadata": {
  "kernelspec": {
   "display_name": "Python 3",
   "language": "python",
   "name": "python3"
  },
  "language_info": {
   "codemirror_mode": {
    "name": "ipython",
    "version": 3
   },
   "file_extension": ".py",
   "mimetype": "text/x-python",
   "name": "python",
   "nbconvert_exporter": "python",
   "pygments_lexer": "ipython3",
   "version": "3.7.0"
  }
 },
 "nbformat": 4,
 "nbformat_minor": 2
}
