{
 "cells": [
  {
   "cell_type": "code",
   "execution_count": 2,
   "metadata": {},
   "outputs": [],
   "source": [
    "from dldk import DLDK\n",
    "import pandas as pd"
   ]
  },
  {
   "cell_type": "code",
   "execution_count": null,
   "metadata": {},
   "outputs": [],
   "source": [
    "# download one product group\n",
    "\n",
    "#     url = \"https://www.digikey.com/products/en/connectors-interconnects/terminal-blocks-headers-plugs-and-sockets/370\"\n",
    "def one_dl(url, this_page_start=1):\n",
    "    tb = DLDK(url)\n",
    "    tb.dl_spg(page_start=this_page_start)\n",
    "    tb.concat_all()\n",
    "\n",
    "# download multiple product group\n",
    "def multi_dl(filename):\n",
    "    df = pd.read_excel(filename)\n",
    "    \n",
    "    for url in df[\"DK Link\"].tolist():\n",
    "        one_dl(url)"
   ]
  },
  {
   "cell_type": "code",
   "execution_count": null,
   "metadata": {},
   "outputs": [],
   "source": []
  }
 ],
 "metadata": {
  "kernelspec": {
   "display_name": "Python 3",
   "language": "python",
   "name": "python3"
  },
  "language_info": {
   "codemirror_mode": {
    "name": "ipython",
    "version": 3
   },
   "file_extension": ".py",
   "mimetype": "text/x-python",
   "name": "python",
   "nbconvert_exporter": "python",
   "pygments_lexer": "ipython3",
   "version": "3.7.0"
  }
 },
 "nbformat": 4,
 "nbformat_minor": 2
}
